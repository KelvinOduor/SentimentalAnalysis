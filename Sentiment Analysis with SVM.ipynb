{
 "cells": [
  {
   "cell_type": "code",
   "execution_count": 4,
   "metadata": {},
   "outputs": [
    {
     "name": "stdout",
     "output_type": "stream",
     "text": [
      "{'precision': 0.9191919191919192, 'recall': 0.91, 'f1-score': 0.9145728643216081, 'support': 100}\n",
      "{'precision': 0.9108910891089109, 'recall': 0.92, 'f1-score': 0.9154228855721394, 'support': 100}\n"
     ]
    }
   ],
   "source": [
    "import pandas as pd\n",
    "from sklearn.feature_extraction.text import TfidfVectorizer\n",
    "import time\n",
    "from sklearn import svm\n",
    "from sklearn.metrics import classification_report\n",
    "\n",
    "train_data_filepath=\"https://raw.githubusercontent.com/Vasistareddy/sentiment_analysis/master/data/train.csv\"\n",
    "test_data_filepath =  \"https://raw.githubusercontent.com/Vasistareddy/sentiment_analysis/master/data/test.csv\"\n",
    "\n",
    "train_data = pd.read_csv(train_data_filepath)\n",
    "test_data = pd.read_csv(test_data_filepath)\n",
    "\n",
    "vectorizer = TfidfVectorizer(min_df = 5, max_df = 0.8, sublinear_tf = True, use_idf = True)\n",
    "\n",
    "train_vectors = vectorizer.fit_transform(train_data['Content'])\n",
    "test_vectors = vectorizer.transform(test_data['Content'])\n",
    "\n",
    "classifier_linear = svm.SVC(kernel='linear')\n",
    "t0 = time.time()\n",
    "classifier_linear.fit(train_vectors, train_data['Label'])\n",
    "t1 = time.time()\n",
    "prediction_linear = classifier_linear.predict(test_vectors)\n",
    "t2 = time.time()\n",
    "time_linear_train = t1-t0\n",
    "time_linear_predict = t2-t1\n",
    "\n",
    "# print(f'training time: {time_linear_train}, prediction time: {time_linear_predict} ')\n",
    "report  = classification_report(test_data['Label'], prediction_linear, output_dict=True)\n",
    "print(report['pos'])\n",
    "print(report['neg'])"
   ]
  },
  {
   "cell_type": "markdown",
   "metadata": {},
   "source": [
    "### Testing with custom tweet"
   ]
  },
  {
   "cell_type": "code",
   "execution_count": 13,
   "metadata": {
    "scrolled": true
   },
   "outputs": [
    {
     "name": "stdout",
     "output_type": "stream",
     "text": [
      "Negative\n"
     ]
    }
   ],
   "source": [
    "#  add custom tweet here \n",
    "\n",
    "custom_text=\"\"\"\n",
    "terrible app\n",
    "\n",
    "\"\"\"\n",
    "custom_vector = vectorizer.transform([custom_text])\n",
    "x= classifier_linear.predict(custom_vector)\n",
    "if x ==['neg']:\n",
    "    print('Negative')\n",
    "else:\n",
    "    print('Positive')"
   ]
  },
  {
   "cell_type": "code",
   "execution_count": 15,
   "metadata": {},
   "outputs": [],
   "source": [
    "from tkinter import *\n",
    "\n",
    "window = Tk()\n",
    "window.title(\"Sentiment Analysis App\")\n",
    "window.geometry('500x400')\n",
    "\n",
    "def analyze():\n",
    "    msg = vectorizer.transform([tweetTxtArea.get(\"1.0\",'end-1c')])\n",
    "    x= classifier_linear.predict(msg)\n",
    "    if x == ['neg']:\n",
    "        sentiment_label.configure(text='Negative',  fg='red')\n",
    "    else:\n",
    "        sentiment_label.configure(text='Positive',  fg='green')\n",
    "\n",
    "\n",
    "label = Label(window, text='Tweet Sentiment Analysis',font=(24)) # label for heading\n",
    "label.grid(row=0, column=1)\n",
    "label = Label(window, text='Enter tweet',) #label for enter tweet\n",
    "label.grid(row=1, column=1)\n",
    "tweetTxtArea = Text(window, height=10, width=60 ) # textarea\n",
    "tweetTxtArea.grid(row=2, column = 1, padx=10)\n",
    "sentiment_label = Label(window, text='Tweet is ...') # sentiment label\n",
    "sentiment_label.grid(row=3, column=1, pady=5)\n",
    "btn_analyze = Button(window, text='Analyze Tweet', bg='deepskyblue' ,command=analyze) # button for analysis\n",
    "btn_analyze.grid(row=4, column=1)\n",
    "\n",
    "\n",
    "window.mainloop()"
   ]
  }
 ],
 "metadata": {
  "kernelspec": {
   "display_name": "Python 3",
   "language": "python",
   "name": "python3"
  },
  "language_info": {
   "codemirror_mode": {
    "name": "ipython",
    "version": 3
   },
   "file_extension": ".py",
   "mimetype": "text/x-python",
   "name": "python",
   "nbconvert_exporter": "python",
   "pygments_lexer": "ipython3",
   "version": "3.8.5"
  }
 },
 "nbformat": 4,
 "nbformat_minor": 4
}
