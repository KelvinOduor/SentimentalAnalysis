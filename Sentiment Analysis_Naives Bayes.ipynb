{
 "cells": [
  {
   "cell_type": "code",
   "execution_count": 110,
   "metadata": {},
   "outputs": [],
   "source": [
    "import nltk.classify.util\n",
    "from nltk.classify import NaiveBayesClassifier\n",
    "from nltk.corpus import twitter_samples\n",
    "from nltk.corpus import stopwords\n",
    "from nltk.tokenize import word_tokenize\n",
    "from nltk.tag import pos_tag\n",
    "from nltk.stem.wordnet import WordNetLemmatizer\n",
    "import re, string\n",
    "from nltk.corpus import stopwords\n",
    "from nltk.corpus import twitter_samples\n",
    "from nltk import classify\n",
    "from nltk import NaiveBayesClassifier\n",
    "import random\n",
    "from sklearn.metrics import classification_report"
   ]
  },
  {
   "cell_type": "code",
   "execution_count": 54,
   "metadata": {},
   "outputs": [],
   "source": [
    "positive_tweets  = twitter_samples.strings('positive_tweets.json')\n",
    "negative_tweets  = twitter_samples.strings('negative_tweets.json')\n",
    "text = twitter_samples.strings('tweets.20150430-223406.json')"
   ]
  },
  {
   "cell_type": "code",
   "execution_count": 109,
   "metadata": {
    "scrolled": true
   },
   "outputs": [],
   "source": [
    "tweet_tokens = twitter_samples.tokenized('positive_tweets.json')\n",
    "# tweet_tokens[2]"
   ]
  },
  {
   "cell_type": "code",
   "execution_count": 56,
   "metadata": {
    "scrolled": true
   },
   "outputs": [
    {
     "name": "stdout",
     "output_type": "stream",
     "text": [
      "['@DespiteOfficial', 'we', 'have', 'a', 'listen', 'last', 'night', ':)', 'As', 'You', 'Bleed', 'be', 'an', 'amazing', 'track', '.', 'When', 'be', 'you', 'in', 'Scotland', '?', '!']\n",
      "['listen', 'last', 'night', ':)', 'bleed', 'amazing', 'track', 'scotland']\n"
     ]
    }
   ],
   "source": [
    "\n",
    "# print(pos_tag(tweet_tokens[1]))\n",
    "\n",
    "def lemmatize_sentence(tokens):\n",
    "    lemmatizer = WordNetLemmatizer()\n",
    "    lemmatized_sentence = []\n",
    "    \n",
    "    for word, tag in pos_tag(tokens):\n",
    "        if tag.startswith('NN'):\n",
    "            pos ='n'\n",
    "        elif tag.startswith('VB'):\n",
    "            pos = 'v'\n",
    "        else:\n",
    "            pos = 'a'\n",
    "        lemmatized_sentence.append(lemmatizer.lemmatize(word, pos))\n",
    "    return lemmatized_sentence\n",
    "\n",
    "print(lemmatize_sentence(tweet_tokens[2]))\n",
    "\n",
    "stop_words=stopwords.words('english')\n",
    "def remove_noise(tweet_tokens, stop_words=()):\n",
    "    cleaned_tweets =[]\n",
    "    for token, tag in pos_tag(tweet_tokens):\n",
    "        token = re.sub('http[s]?://(?:[a-zA-Z]|[0-9]|[$-_@.&+#]|[!*\\(\\),]|'\\\n",
    "                       '(?:%[0-9a-fA-F][0-9a-fA-F]))+','', token)\n",
    "        token = re.sub(\"(@[A-Za-z0-9_]+)\",\"\", token)\n",
    "        \n",
    "        if tag.startswith('NN'):\n",
    "            pos='n'\n",
    "        elif tag.startswith('VB'):\n",
    "            pos='v'\n",
    "        else:\n",
    "            pos='a'\n",
    "        lemmatizer=WordNetLemmatizer()\n",
    "        token = lemmatizer.lemmatize(token,pos)\n",
    "        \n",
    "        if len(token) > 0 and token not in string.punctuation and token.lower() not in stop_words:\n",
    "            cleaned_tweets.append(token.lower())\n",
    "    return cleaned_tweets\n",
    "    \n",
    "    \n",
    "print(remove_noise(tweet_tokens[2], stop_words))\n",
    "\n",
    "positive_uncleaned_tweets=twitter_samples.tokenized('positive_tweets.json')\n",
    "positive_cleaned_tweets_list=[]\n",
    "negative_uncleaned_tweets=twitter_samples.tokenized('negative_tweets.json')\n",
    "negative_cleaned_tweets_list=[]\n",
    "\n",
    "for words in positive_uncleaned_tweets:\n",
    "    positive_cleaned_tweets_list.append(remove_noise(words, stop_words ))\n",
    "    \n",
    "for words in negative_uncleaned_tweets:\n",
    "    negative_cleaned_tweets_list.append(remove_noise(words, stop_words ))\n",
    "    \n",
    "def model_for_tweets(cleaned_tokens_list):\n",
    "    for tweets in cleaned_tokens_list:\n",
    "        yield dict([tweet, True] for tweet in tweets )\n",
    "        \n",
    "positive_tweets_model=model_for_tweets(positive_uncleaned_tweets)\n",
    "negative_tweets_model=model_for_tweets(negative_uncleaned_tweets)\n",
    "\n",
    "positive_dataset=[(tweet_dict, 'Positive') for tweet_dict in positive_tweets_model]\n",
    "negative_dataset=[(tweet_dict, 'Negative') for tweet_dict in negative_tweets_model]\n",
    "\n",
    "dataset=positive_dataset+negative_dataset\n",
    "random.shuffle(dataset)\n",
    "\n",
    "train_data=dataset[:7000]\n",
    "test_data=dataset[7000:]"
   ]
  },
  {
   "cell_type": "code",
   "execution_count": 57,
   "metadata": {
    "scrolled": true
   },
   "outputs": [],
   "source": [
    "# print(positive_uncleaned_tweets[13])\n",
    "# print(positive_cleaned_tweets_list[13])"
   ]
  },
  {
   "cell_type": "code",
   "execution_count": 111,
   "metadata": {
    "scrolled": false
   },
   "outputs": [
    {
     "name": "stdout",
     "output_type": "stream",
     "text": [
      "Accuracy is :  0.9943333333333333\n",
      "Most Informative Features\n",
      "                      :( = True           Negati : Positi =   2074.2 : 1.0\n",
      "                      :) = True           Positi : Negati =    989.1 : 1.0\n",
      "                     sad = True           Negati : Positi =     46.7 : 1.0\n",
      "                  THANKS = True           Negati : Positi =     27.2 : 1.0\n",
      "                   Thank = True           Positi : Negati =     25.1 : 1.0\n",
      "                     See = True           Positi : Negati =     24.1 : 1.0\n",
      "                    THAT = True           Negati : Positi =     23.2 : 1.0\n",
      "                   loves = True           Positi : Negati =     22.8 : 1.0\n",
      "                  FOLLOW = True           Negati : Positi =     21.8 : 1.0\n",
      "                  Thanks = True           Positi : Negati =     21.4 : 1.0\n",
      "None\n"
     ]
    },
    {
     "ename": "TypeError",
     "evalue": "list indices must be integers or slices, not str",
     "output_type": "error",
     "traceback": [
      "\u001b[1;31m---------------------------------------------------------------------------\u001b[0m",
      "\u001b[1;31mTypeError\u001b[0m                                 Traceback (most recent call last)",
      "\u001b[1;32m<ipython-input-111-533db1f8701d>\u001b[0m in \u001b[0;36m<module>\u001b[1;34m\u001b[0m\n\u001b[0;32m      2\u001b[0m \u001b[0mprint\u001b[0m\u001b[1;33m(\u001b[0m\u001b[1;34m\"Accuracy is : \"\u001b[0m\u001b[1;33m,\u001b[0m \u001b[0mclassify\u001b[0m\u001b[1;33m.\u001b[0m\u001b[0maccuracy\u001b[0m\u001b[1;33m(\u001b[0m\u001b[0mclassifier\u001b[0m\u001b[1;33m,\u001b[0m \u001b[0mtest_data\u001b[0m\u001b[1;33m)\u001b[0m\u001b[1;33m)\u001b[0m\u001b[1;33m\u001b[0m\u001b[1;33m\u001b[0m\u001b[0m\n\u001b[0;32m      3\u001b[0m \u001b[0mprint\u001b[0m\u001b[1;33m(\u001b[0m\u001b[0mclassifier\u001b[0m\u001b[1;33m.\u001b[0m\u001b[0mshow_most_informative_features\u001b[0m\u001b[1;33m(\u001b[0m\u001b[1;36m10\u001b[0m\u001b[1;33m)\u001b[0m\u001b[1;33m)\u001b[0m\u001b[1;33m\u001b[0m\u001b[1;33m\u001b[0m\u001b[0m\n\u001b[1;32m----> 4\u001b[1;33m \u001b[0mreport\u001b[0m  \u001b[1;33m=\u001b[0m \u001b[0mclassification_report\u001b[0m\u001b[1;33m(\u001b[0m\u001b[0mclassifier\u001b[0m\u001b[1;33m,\u001b[0m \u001b[0mtest_data\u001b[0m\u001b[1;33m[\u001b[0m\u001b[1;34m'Label'\u001b[0m\u001b[1;33m]\u001b[0m\u001b[1;33m,\u001b[0m \u001b[0moutput_dict\u001b[0m\u001b[1;33m=\u001b[0m\u001b[1;32mTrue\u001b[0m\u001b[1;33m)\u001b[0m\u001b[1;33m\u001b[0m\u001b[1;33m\u001b[0m\u001b[0m\n\u001b[0m\u001b[0;32m      5\u001b[0m \u001b[0mprint\u001b[0m\u001b[1;33m(\u001b[0m\u001b[0mreport\u001b[0m\u001b[1;33m[\u001b[0m\u001b[1;34m'Positive'\u001b[0m\u001b[1;33m]\u001b[0m\u001b[1;33m)\u001b[0m\u001b[1;33m\u001b[0m\u001b[1;33m\u001b[0m\u001b[0m\n",
      "\u001b[1;31mTypeError\u001b[0m: list indices must be integers or slices, not str"
     ]
    }
   ],
   "source": [
    "\n",
    "classifier = NaiveBayesClassifier.train(train_data)\n",
    "print(\"Accuracy is : \", classify.accuracy(classifier, test_data))\n",
    "print(classifier.show_most_informative_features(10))\n",
    "report  = classification_report(classifier, test_data['Label'], output_dict=True)\n",
    "print(report['Positive'])"
   ]
  },
  {
   "cell_type": "markdown",
   "metadata": {},
   "source": [
    "### Testing with custom tweet"
   ]
  },
  {
   "cell_type": "code",
   "execution_count": 83,
   "metadata": {},
   "outputs": [
    {
     "name": "stdout",
     "output_type": "stream",
     "text": [
      "neg\n",
      "Negative\n"
     ]
    }
   ],
   "source": [
    "custom_tweet=\"\"\"\n",
    "During opening statements in Derek Chauvin's trial in the death of George Floyd, prosecutors showed jurors a bystander video of the former officer kneeling on Floyd's neck.\n",
    "\"\"\"\n",
    "custom_tokens = remove_noise(nltk.word_tokenize(custom_tweet))\n",
    "x = classifier.classify(dict([token, True] for token in custom_tokens))\n",
    "x"
   ]
  },
  {
   "cell_type": "code",
   "execution_count": 107,
   "metadata": {},
   "outputs": [],
   "source": [
    "from tkinter import *\n",
    "\n",
    "window = Tk()\n",
    "window.title(\"Sentiment Analysis App\")\n",
    "window.geometry('500x400')\n",
    "\n",
    "def analyze():\n",
    "    msg =remove_noise(nltk.word_tokenize( tweetTxtArea.get(\"1.0\",'end-1c')))\n",
    "#     msg_token=  remove_noise(nltk.word_tokenize(msg))\n",
    "    sentiment_result = (classifier.classify(dict([token, True] for token in msg)))\n",
    "    if sentiment_result == 'Positive':\n",
    "        sentiment_label.configure(text=sentiment_result,  fg='green')\n",
    "    else:\n",
    "         sentiment_label.configure(text=sentiment_result, fg='red')\n",
    "\n",
    "label = Label(window, text='Tweet Sentiment Analysis',font=(24)) # label for heading\n",
    "label.grid(row=0, column=1)\n",
    "label = Label(window, text='Enter tweet',) #label for enter tweet\n",
    "label.grid(row=1, column=1)\n",
    "tweetTxtArea = Text(window, height=10, width=60 ) # textarea\n",
    "tweetTxtArea.grid(row=2, column = 1, padx=10)\n",
    "sentiment_label = Label(window, text='Tweet is ...') # sentiment label\n",
    "sentiment_label.grid(row=3, column=1, pady=5)\n",
    "btn_analyze = Button(window, text='Analyze Tweet', bg='deepskyblue' ,command=analyze) # button for analysis\n",
    "btn_analyze.grid(row=4, column=1)\n",
    "\n",
    "\n",
    "window.mainloop()"
   ]
  },
  {
   "cell_type": "code",
   "execution_count": null,
   "metadata": {},
   "outputs": [],
   "source": []
  }
 ],
 "metadata": {
  "kernelspec": {
   "display_name": "Python 3",
   "language": "python",
   "name": "python3"
  },
  "language_info": {
   "codemirror_mode": {
    "name": "ipython",
    "version": 3
   },
   "file_extension": ".py",
   "mimetype": "text/x-python",
   "name": "python",
   "nbconvert_exporter": "python",
   "pygments_lexer": "ipython3",
   "version": "3.8.5"
  }
 },
 "nbformat": 4,
 "nbformat_minor": 4
}
